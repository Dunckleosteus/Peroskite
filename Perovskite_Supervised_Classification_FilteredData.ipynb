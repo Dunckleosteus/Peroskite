{
  "nbformat": 4,
  "nbformat_minor": 0,
  "metadata": {
    "colab": {
      "provenance": [],
      "collapsed_sections": [
        "PlfNsoJwYR9Z",
        "Z1LVxREoBl4M"
      ],
      "include_colab_link": true
    },
    "kernelspec": {
      "name": "python3",
      "display_name": "Python 3"
    },
    "language_info": {
      "name": "python"
    }
  },
  "cells": [
    {
      "cell_type": "markdown",
      "metadata": {
        "id": "view-in-github",
        "colab_type": "text"
      },
      "source": [
        "<a href=\"https://colab.research.google.com/github/Dunckleosteus/Peroskite/blob/unstable/Perovskite_Supervised_Classification_FilteredData.ipynb\" target=\"_parent\"><img src=\"https://colab.research.google.com/assets/colab-badge.svg\" alt=\"Open In Colab\"/></a>"
      ]
    },
    {
      "cell_type": "markdown",
      "source": [
        "Scope> Predict crystal structure for a given set of perovskite crystal with specified properties\n"
      ],
      "metadata": {
        "id": "POd6ip4U3z1G"
      }
    },
    {
      "cell_type": "code",
      "source": [
        "import pandas as pd\n",
        "import numpy as np\n",
        "import matplotlib.pyplot as plt\n",
        "import plotly.express as px\n",
        "import seaborn as sns\n",
        "import matplotlib.pyplot as plt"
      ],
      "metadata": {
        "id": "W2xPTuLL5W21"
      },
      "execution_count": 3,
      "outputs": []
    },
    {
      "cell_type": "code",
      "source": [
        "from google.colab import files\n",
        "uploaded = files.upload()"
      ],
      "metadata": {
        "colab": {
          "base_uri": "https://localhost:8080/",
          "height": 36
        },
        "id": "qYGdxQBIW9ls",
        "outputId": "0847daf0-824a-447b-daba-37d2dfd97e39"
      },
      "execution_count": null,
      "outputs": [
        {
          "output_type": "display_data",
          "data": {
            "text/plain": [
              "<IPython.core.display.HTML object>"
            ],
            "text/html": [
              "\n",
              "     <input type=\"file\" id=\"files-12005d02-f493-46c3-9406-517673496c0b\" name=\"files[]\" multiple disabled\n",
              "        style=\"border:none\" />\n",
              "     <output id=\"result-12005d02-f493-46c3-9406-517673496c0b\">\n",
              "      Upload widget is only available when the cell has been executed in the\n",
              "      current browser session. Please rerun this cell to enable.\n",
              "      </output>\n",
              "      <script>// Copyright 2017 Google LLC\n",
              "//\n",
              "// Licensed under the Apache License, Version 2.0 (the \"License\");\n",
              "// you may not use this file except in compliance with the License.\n",
              "// You may obtain a copy of the License at\n",
              "//\n",
              "//      http://www.apache.org/licenses/LICENSE-2.0\n",
              "//\n",
              "// Unless required by applicable law or agreed to in writing, software\n",
              "// distributed under the License is distributed on an \"AS IS\" BASIS,\n",
              "// WITHOUT WARRANTIES OR CONDITIONS OF ANY KIND, either express or implied.\n",
              "// See the License for the specific language governing permissions and\n",
              "// limitations under the License.\n",
              "\n",
              "/**\n",
              " * @fileoverview Helpers for google.colab Python module.\n",
              " */\n",
              "(function(scope) {\n",
              "function span(text, styleAttributes = {}) {\n",
              "  const element = document.createElement('span');\n",
              "  element.textContent = text;\n",
              "  for (const key of Object.keys(styleAttributes)) {\n",
              "    element.style[key] = styleAttributes[key];\n",
              "  }\n",
              "  return element;\n",
              "}\n",
              "\n",
              "// Max number of bytes which will be uploaded at a time.\n",
              "const MAX_PAYLOAD_SIZE = 100 * 1024;\n",
              "\n",
              "function _uploadFiles(inputId, outputId) {\n",
              "  const steps = uploadFilesStep(inputId, outputId);\n",
              "  const outputElement = document.getElementById(outputId);\n",
              "  // Cache steps on the outputElement to make it available for the next call\n",
              "  // to uploadFilesContinue from Python.\n",
              "  outputElement.steps = steps;\n",
              "\n",
              "  return _uploadFilesContinue(outputId);\n",
              "}\n",
              "\n",
              "// This is roughly an async generator (not supported in the browser yet),\n",
              "// where there are multiple asynchronous steps and the Python side is going\n",
              "// to poll for completion of each step.\n",
              "// This uses a Promise to block the python side on completion of each step,\n",
              "// then passes the result of the previous step as the input to the next step.\n",
              "function _uploadFilesContinue(outputId) {\n",
              "  const outputElement = document.getElementById(outputId);\n",
              "  const steps = outputElement.steps;\n",
              "\n",
              "  const next = steps.next(outputElement.lastPromiseValue);\n",
              "  return Promise.resolve(next.value.promise).then((value) => {\n",
              "    // Cache the last promise value to make it available to the next\n",
              "    // step of the generator.\n",
              "    outputElement.lastPromiseValue = value;\n",
              "    return next.value.response;\n",
              "  });\n",
              "}\n",
              "\n",
              "/**\n",
              " * Generator function which is called between each async step of the upload\n",
              " * process.\n",
              " * @param {string} inputId Element ID of the input file picker element.\n",
              " * @param {string} outputId Element ID of the output display.\n",
              " * @return {!Iterable<!Object>} Iterable of next steps.\n",
              " */\n",
              "function* uploadFilesStep(inputId, outputId) {\n",
              "  const inputElement = document.getElementById(inputId);\n",
              "  inputElement.disabled = false;\n",
              "\n",
              "  const outputElement = document.getElementById(outputId);\n",
              "  outputElement.innerHTML = '';\n",
              "\n",
              "  const pickedPromise = new Promise((resolve) => {\n",
              "    inputElement.addEventListener('change', (e) => {\n",
              "      resolve(e.target.files);\n",
              "    });\n",
              "  });\n",
              "\n",
              "  const cancel = document.createElement('button');\n",
              "  inputElement.parentElement.appendChild(cancel);\n",
              "  cancel.textContent = 'Cancel upload';\n",
              "  const cancelPromise = new Promise((resolve) => {\n",
              "    cancel.onclick = () => {\n",
              "      resolve(null);\n",
              "    };\n",
              "  });\n",
              "\n",
              "  // Wait for the user to pick the files.\n",
              "  const files = yield {\n",
              "    promise: Promise.race([pickedPromise, cancelPromise]),\n",
              "    response: {\n",
              "      action: 'starting',\n",
              "    }\n",
              "  };\n",
              "\n",
              "  cancel.remove();\n",
              "\n",
              "  // Disable the input element since further picks are not allowed.\n",
              "  inputElement.disabled = true;\n",
              "\n",
              "  if (!files) {\n",
              "    return {\n",
              "      response: {\n",
              "        action: 'complete',\n",
              "      }\n",
              "    };\n",
              "  }\n",
              "\n",
              "  for (const file of files) {\n",
              "    const li = document.createElement('li');\n",
              "    li.append(span(file.name, {fontWeight: 'bold'}));\n",
              "    li.append(span(\n",
              "        `(${file.type || 'n/a'}) - ${file.size} bytes, ` +\n",
              "        `last modified: ${\n",
              "            file.lastModifiedDate ? file.lastModifiedDate.toLocaleDateString() :\n",
              "                                    'n/a'} - `));\n",
              "    const percent = span('0% done');\n",
              "    li.appendChild(percent);\n",
              "\n",
              "    outputElement.appendChild(li);\n",
              "\n",
              "    const fileDataPromise = new Promise((resolve) => {\n",
              "      const reader = new FileReader();\n",
              "      reader.onload = (e) => {\n",
              "        resolve(e.target.result);\n",
              "      };\n",
              "      reader.readAsArrayBuffer(file);\n",
              "    });\n",
              "    // Wait for the data to be ready.\n",
              "    let fileData = yield {\n",
              "      promise: fileDataPromise,\n",
              "      response: {\n",
              "        action: 'continue',\n",
              "      }\n",
              "    };\n",
              "\n",
              "    // Use a chunked sending to avoid message size limits. See b/62115660.\n",
              "    let position = 0;\n",
              "    do {\n",
              "      const length = Math.min(fileData.byteLength - position, MAX_PAYLOAD_SIZE);\n",
              "      const chunk = new Uint8Array(fileData, position, length);\n",
              "      position += length;\n",
              "\n",
              "      const base64 = btoa(String.fromCharCode.apply(null, chunk));\n",
              "      yield {\n",
              "        response: {\n",
              "          action: 'append',\n",
              "          file: file.name,\n",
              "          data: base64,\n",
              "        },\n",
              "      };\n",
              "\n",
              "      let percentDone = fileData.byteLength === 0 ?\n",
              "          100 :\n",
              "          Math.round((position / fileData.byteLength) * 100);\n",
              "      percent.textContent = `${percentDone}% done`;\n",
              "\n",
              "    } while (position < fileData.byteLength);\n",
              "  }\n",
              "\n",
              "  // All done.\n",
              "  yield {\n",
              "    response: {\n",
              "      action: 'complete',\n",
              "    }\n",
              "  };\n",
              "}\n",
              "\n",
              "scope.google = scope.google || {};\n",
              "scope.google.colab = scope.google.colab || {};\n",
              "scope.google.colab._files = {\n",
              "  _uploadFiles,\n",
              "  _uploadFilesContinue,\n",
              "};\n",
              "})(self);\n",
              "</script> "
            ]
          },
          "metadata": {}
        }
      ]
    },
    {
      "cell_type": "code",
      "source": [
        "raw_data = pd.read_csv('Crystal_structure.csv')\n",
        "\n",
        "raw_data.head(5)"
      ],
      "metadata": {
        "id": "2RyK0_sj5pau"
      },
      "execution_count": null,
      "outputs": []
    },
    {
      "cell_type": "code",
      "source": [
        "raw_data.columns = raw_data.columns.str.replace(' ', '_')\n",
        "raw_data.head(5)"
      ],
      "metadata": {
        "id": "SeaL2Xm9NKji"
      },
      "execution_count": null,
      "outputs": []
    },
    {
      "cell_type": "code",
      "source": [
        "raw_data.describe()"
      ],
      "metadata": {
        "id": "9s3zLa7Dbh0R"
      },
      "execution_count": null,
      "outputs": []
    },
    {
      "cell_type": "code",
      "source": [
        "raw_data.dtypes"
      ],
      "metadata": {
        "id": "7YD-3CESS76Y"
      },
      "execution_count": null,
      "outputs": []
    },
    {
      "cell_type": "code",
      "source": [
        "import pandas as pd\n",
        "\n",
        "# Reload the data if raw_data is not a DataFrame\n",
        "#raw_data = pd.read_csv('/content/drive/MyDrive/ML_Perovskite/Crystal_structure.csv')\n",
        "raw_data.columns = raw_data.columns.str.replace(' ', '_')\n",
        "\n",
        "# Now create the copy\n",
        "data_copy = raw_data.copy()\n",
        "\n",
        "# Print the first 5 rows\n",
        "data_copy.head(5)"
      ],
      "metadata": {
        "id": "6ite_kih4eJ6"
      },
      "execution_count": null,
      "outputs": []
    },
    {
      "source": [
        "# @title Lowest_distortion\n",
        "\n",
        "from matplotlib import pyplot as plt\n",
        "import seaborn as sns\n",
        "data_copy.groupby('Lowest_distortion').size().plot(kind='bar', color=sns.palettes.mpl_palette('Blues_d'))\n",
        "plt.gca().spines[['top', 'right',]].set_visible(False)\n",
        "plt.xlabel(\"Lowest Distortion Category\")  # Add x-axis label\n",
        "plt.ylabel(\"Frequency\")\n",
        "plt.xticks(rotation=0, size=8)\n",
        "plt.show()"
      ],
      "cell_type": "code",
      "execution_count": null,
      "outputs": [],
      "metadata": {
        "id": "LuEjk9vwQgsl"
      }
    },
    {
      "cell_type": "code",
      "source": [
        "import pandas as pd\n",
        "import matplotlib.pyplot as plt\n",
        "import seaborn as sns\n",
        "\n",
        "# 1. Convert 'τ' to numeric, handling errors\n",
        "data_copy['τ'] = pd.to_numeric(data_copy['τ'], errors='coerce')\n",
        "\n",
        "# 2. Remove rows with NaN values (if any) resulting from the conversion\n",
        "data_copy = data_copy.dropna(subset=['τ'])\n",
        "\n",
        "# 3. Create the histogram\n",
        "plt.figure(figsize=(8, 6))\n",
        "sns.histplot(data_copy['τ'], bins=20, kde=True)\n",
        "plt.xlabel(\"τ Values\")\n",
        "plt.ylabel(\"Frequency\")\n",
        "plt.title(\"Distribution of τ\")\n",
        "plt.show()"
      ],
      "metadata": {
        "id": "0e7DTGA_StGD"
      },
      "execution_count": null,
      "outputs": []
    },
    {
      "cell_type": "code",
      "source": [
        "data_copy.dtypes\n",
        "value_counts_per_column = data_copy.count()\n",
        "print(value_counts_per_column)"
      ],
      "metadata": {
        "id": "2rMFVyHA6OlE"
      },
      "execution_count": null,
      "outputs": []
    },
    {
      "cell_type": "code",
      "source": [
        "data_copy.shape"
      ],
      "metadata": {
        "id": "aNzNBTxN4vdu"
      },
      "execution_count": null,
      "outputs": []
    },
    {
      "cell_type": "markdown",
      "source": [
        "Removed A,B, In literature columns because they did not bring any significant information and the τ column because it had numeorous missing values\n"
      ],
      "metadata": {
        "id": "aZpt8lDQdCKs"
      }
    },
    {
      "cell_type": "code",
      "source": [
        "remove_columns = ['A', 'B', 'In_literature', 'τ']\n",
        "new_data = data_copy.copy()\n",
        "new_data.drop(columns=remove_columns, inplace=True)\n",
        "new_data.head(5)\n",
        "new_data.shape"
      ],
      "metadata": {
        "id": "uAOqhDYK-ZNm"
      },
      "execution_count": null,
      "outputs": []
    },
    {
      "cell_type": "code",
      "source": [
        "print(new_data[['v(A)', 'v(B)']].dtypes)"
      ],
      "metadata": {
        "id": "faWFd_3N2a6l"
      },
      "execution_count": null,
      "outputs": []
    },
    {
      "cell_type": "code",
      "source": [
        "# Convert 'v(A)' and 'v(B)' to a suitable numeric type\n",
        "new_data['v(A)'] = pd.to_numeric(new_data['v(A)'], errors='coerce')\n",
        "new_data['v(B)'] = pd.to_numeric(new_data['v(B)'], errors='coerce')\n",
        "\n",
        "# Now replace 0 with NaN and drop rows with NaN\n",
        "new_data['v(A)'] = new_data['v(A)'].replace(0, np.nan)\n",
        "new_data['v(B)'] = new_data['v(B)'].replace(0, np.nan)\n",
        "new_data.dropna(inplace=True)\n",
        "new_data.head(10)\n"
      ],
      "metadata": {
        "id": "xyzSCwTHR1Tx"
      },
      "execution_count": null,
      "outputs": []
    },
    {
      "cell_type": "code",
      "source": [
        "\n",
        "# Convert 'v(A)' and 'v(B)' to category\n",
        "new_data['v(A)'] = new_data['v(A)'].astype('category')\n",
        "new_data['v(B)'] = new_data['v(B)'].astype('category')\n",
        "new_data['Lowest_distortion']=new_data['Lowest_distortion'].str.replace('-','')\n",
        "\n",
        "new_data.info()\n",
        "new_data.shape"
      ],
      "metadata": {
        "id": "bIL81tmPLH-S"
      },
      "execution_count": null,
      "outputs": []
    },
    {
      "cell_type": "code",
      "source": [
        "# Create a copy of filtered_data\n",
        "filtered_data_encoded = new_data.copy()\n",
        "# Perform one-hot encoding on the copy\n",
        "filtered_data_encoded = pd.get_dummies(filtered_data_encoded, columns=['v(A)', 'v(B)'], prefix=['v(A)', 'v(B)'])\n",
        "filtered_data_encoded.head(10)"
      ],
      "metadata": {
        "id": "4iMVbhoEUCJ6"
      },
      "execution_count": null,
      "outputs": []
    },
    {
      "cell_type": "code",
      "source": [
        "# Assuming 'filtered_data_encoded' is your DataFrame with one-hot encoded columns\n",
        "\n",
        "# List of one-hot encoded columns\n",
        "one_hot_columns = ['v(A)_1.0', 'v(A)_2.0', 'v(A)_3.0', 'v(A)_4.0', 'v(A)_5.0', 'v(B)_1.0', 'v(B)_2.0', 'v(B)_3.0', 'v(B)_4.0', 'v(B)_5.0'] # Replace with your actual column names if different\n",
        "\n",
        "\n",
        "# Convert True/False to 1/0 and change data type to float64\n",
        "for column in one_hot_columns:\n",
        "    filtered_data_encoded[column] = filtered_data_encoded[column].astype(int).astype('float64')\n",
        "\n",
        "filtered_data_encoded.head(5)"
      ],
      "metadata": {
        "id": "kv3EgBWjYcV1"
      },
      "execution_count": null,
      "outputs": []
    },
    {
      "cell_type": "markdown",
      "source": [],
      "metadata": {
        "id": "gedRjXm7aNvq"
      }
    },
    {
      "cell_type": "code",
      "source": [
        "filtered_data_encoded['Lowest_distortion'] = filtered_data_encoded['Lowest_distortion'].astype('category')\n",
        "filtered_data_encoded.dtypes"
      ],
      "metadata": {
        "id": "4V19s085Z9Q4"
      },
      "execution_count": null,
      "outputs": []
    },
    {
      "cell_type": "code",
      "source": [
        "# Convert 'l(A-O)(Å)' and 'l(B-O)(Å)' to numeric type\n",
        "filtered_data_encoded['l(A-O)(Å)'] = pd.to_numeric(filtered_data_encoded['l(A-O)(Å)'], errors='coerce')\n",
        "filtered_data_encoded['l(B-O)(Å)'] = pd.to_numeric(filtered_data_encoded['l(B-O)(Å)'], errors='coerce')\n"
      ],
      "metadata": {
        "id": "MWE7Nhthfk7S"
      },
      "execution_count": null,
      "outputs": []
    },
    {
      "cell_type": "code",
      "source": [
        "#Remove the '-' category\n",
        "# Replace empty strings with NaN and drop NaN values\n",
        "filtered_data_encoded['Lowest_distortion'] = filtered_data_encoded['Lowest_distortion'].replace('', np.nan)\n",
        "filtered_data_encoded.dropna(subset=['Lowest_distortion'], inplace=True)\n",
        "\n",
        "\n",
        "# Verify removal of '' category\n",
        "unique_distortions = filtered_data_encoded['Lowest_distortion'].unique()\n",
        "print(\"Unique values after removal of '' category:\", unique_distortions)"
      ],
      "metadata": {
        "id": "WZ0qO-ypOINR"
      },
      "execution_count": null,
      "outputs": []
    },
    {
      "cell_type": "code",
      "source": [
        "import pandas as pd\n",
        "import seaborn as sns\n",
        "import matplotlib.pyplot as plt\n",
        "\n",
        "\n",
        "# Select all numerical columns, including one-hot encoded ones\n",
        "numerical_data = filtered_data_encoded.select_dtypes(include=['number', 'uint8']) # Include 'uint8' to capture one-hot encoded columns\n",
        "\n",
        "# Calculate correlation matrix\n",
        "correlation_matrix = numerical_data.corr()\n",
        "\n",
        "# Plotting the heatmap\n",
        "plt.figure(figsize=(12, 10))\n",
        "sns.heatmap(correlation_matrix, annot=True, cmap='YlOrRd', fmt=\".2f\")\n",
        "plt.title('Correlation Matrix')\n",
        "plt.show()"
      ],
      "metadata": {
        "id": "TZDG0lwvaZgJ"
      },
      "execution_count": null,
      "outputs": []
    },
    {
      "cell_type": "markdown",
      "source": [
        "\n",
        "# KNN\n"
      ],
      "metadata": {
        "id": "MAN0xFfEcJ1V"
      }
    },
    {
      "cell_type": "code",
      "source": [
        "import pandas as pd\n",
        "from sklearn.model_selection import train_test_split, GridSearchCV\n",
        "from sklearn.neighbors import KNeighborsClassifier\n",
        "from sklearn.metrics import accuracy_score\n",
        "\n",
        "# 1. Separate features (X) and target (y)\n",
        "X = filtered_data_encoded.drop(columns=['Compound', 'Lowest_distortion'])\n",
        "y = filtered_data_encoded['Lowest_distortion']\n",
        "\n",
        "# 2. Perform one-hot encoding on the target variable 'Lowest_distortion'\n",
        "y_encoded = pd.get_dummies(y, prefix=['Lowest_distortion'])\n",
        "\n",
        "# 3. Split data into training and testing sets\n",
        "X_train, X_test, y_train, y_test = train_test_split(X, y, test_size=0.2, shuffle=True, stratify=y_encoded, random_state=42)\n",
        "\n",
        "# 4. Define hyperparameter grid for KNN\n",
        "knn_param_grid = {\n",
        "    'n_neighbors': [3, 5, 7, 9, 11],  # Try different values for k\n",
        "    'metric': ['euclidean', 'manhattan']  # Try different distance metrics\n",
        "}\n",
        "\n",
        "# 5. Create and train the KNN model with GridSearchCV\n",
        "knn_model = KNeighborsClassifier()\n",
        "grid_search_knn = GridSearchCV(knn_model, knn_param_grid, cv=5, scoring='accuracy')\n",
        "grid_search_knn.fit(X_train, y_train)\n",
        "\n",
        "# 6. Get the best KNN model and its hyperparameters\n",
        "best_knn_model = grid_search_knn.best_estimator_\n",
        "best_knn_params = grid_search_knn.best_params_\n",
        "\n",
        "# 7. Make predictions on the test set\n",
        "y_pred_knn = best_knn_model.predict(X_test)\n",
        "\n",
        "# 8. Evaluate the model\n",
        "accuracy_knn = accuracy_score(y_test, y_pred_knn)\n",
        "print(f\"Best Hyperparameters for KNN: {best_knn_params}\")\n",
        "print(f\"Accuracy with Best KNN Model: {accuracy_knn}\")"
      ],
      "metadata": {
        "id": "zTVTWuOPcM5M"
      },
      "execution_count": null,
      "outputs": []
    },
    {
      "cell_type": "code",
      "source": [
        "import pandas as pd\n",
        "from sklearn.model_selection import train_test_split, GridSearchCV\n",
        "from sklearn.neighbors import KNeighborsClassifier\n",
        "from sklearn.metrics import accuracy_score, classification_report\n",
        "\n",
        "\n",
        "# 9. Calculate and print classification report\n",
        "report = classification_report(y_test, y_pred_knn, target_names=y_encoded.columns)  # Use target_names for category labels\n",
        "print(report)\n"
      ],
      "metadata": {
        "id": "CuRB-uoBdDJN"
      },
      "execution_count": null,
      "outputs": []
    },
    {
      "cell_type": "code",
      "source": [
        "import matplotlib.pyplot as plt\n",
        "import seaborn as sns\n",
        "import numpy as np\n",
        "from sklearn.metrics import confusion_matrix\n",
        "\n",
        "# Assuming y_test and y_pred_knn are from your KNN model training\n",
        "# and y_encoded contains the one-hot encoded target labels\n",
        "\n",
        "# 1. No need to convert y_pred_knn as it's already in class labels\n",
        "#y_pred_knn_labels = np.argmax(y_pred_knn, axis=1)  # This line is causing the error\n",
        "#target_names = sorted(filtered_data_encoded['Lowest_distortion'].unique())\n",
        "#y_pred_knn_labels = [target_names[i] for i in y_pred_knn_labels]\n",
        "\n",
        "# Get unique class labels directly from y_test\n",
        "target_names = sorted(y_test.unique())\n",
        "\n",
        "# 2. Create confusion matrix\n",
        "cm_knn = confusion_matrix(y_test, y_pred_knn, labels=target_names)\n",
        "\n",
        "# 3. Plotting the confusion matrix\n",
        "plt.figure(figsize=(8, 6))\n",
        "sns.heatmap(cm_knn, annot=True, fmt=\"d\", cmap=\"Blues\",\n",
        "            xticklabels=target_names, yticklabels=target_names)\n",
        "plt.xlabel(\"Predicted Labels\")\n",
        "plt.ylabel(\"True Labels\")\n",
        "plt.title(\"Confusion Matrix for KNN Model (One-Hot Encoded)\")\n",
        "plt.show()"
      ],
      "metadata": {
        "id": "CuXMiB_SVcMk"
      },
      "execution_count": null,
      "outputs": []
    },
    {
      "cell_type": "code",
      "source": [
        "import numpy as np\n",
        "import pandas as pd\n",
        "import matplotlib.pyplot as plt\n",
        "from sklearn.model_selection import learning_curve\n",
        "\n",
        "# Assuming you have X_train, y_train, and best_knn_model from your previous code\n",
        "\n",
        "# Create CV training and test scores for various training set sizes\n",
        "train_sizes, train_scores, test_scores = learning_curve(\n",
        "    best_knn_model, X_train, y_train, cv=5, scoring='accuracy',\n",
        "    n_jobs=-1, train_sizes=np.linspace(.1, 1.0, 5) # Adjust train_sizes as needed\n",
        ")\n",
        "\n",
        "# Calculate mean and standard deviation for training set scores\n",
        "train_scores_mean = np.mean(train_scores, axis=1)\n",
        "train_scores_std = np.std(train_scores, axis=1)\n",
        "\n",
        "# Calculate mean and standard deviation for test set scores\n",
        "test_scores_mean = np.mean(test_scores, axis=1)\n",
        "test_scores_std = np.std(test_scores, axis=1)\n",
        "\n",
        "# Plot the learning curve\n",
        "plt.figure(figsize=(10, 6))\n",
        "plt.title(\"Learning Curve for KNN Model\")\n",
        "plt.xlabel(\"Training Examples\")\n",
        "plt.ylabel(\"Score\")\n",
        "plt.grid()\n",
        "\n",
        "plt.fill_between(train_sizes, train_scores_mean - train_scores_std,\n",
        "                 train_scores_mean + train_scores_std, alpha=0.1,\n",
        "                 color=\"r\")\n",
        "plt.fill_between(train_sizes, test_scores_mean - test_scores_std,\n",
        "                 test_scores_mean + test_scores_std, alpha=0.1, color=\"g\")\n",
        "plt.plot(train_sizes, train_scores_mean, 'o-', color=\"r\",\n",
        "         label=\"Training score\")\n",
        "plt.plot(train_sizes, test_scores_mean, 'o-', color=\"g\",\n",
        "         label=\"Cross-validation score\")\n",
        "\n",
        "plt.legend(loc=\"best\")\n",
        "plt.show()"
      ],
      "metadata": {
        "id": "_sd81HvhhKjq"
      },
      "execution_count": null,
      "outputs": []
    },
    {
      "cell_type": "markdown",
      "source": [],
      "metadata": {
        "id": "6SNhDJDdVdfQ"
      }
    },
    {
      "cell_type": "markdown",
      "source": [
        "#Decision Tree"
      ],
      "metadata": {
        "id": "scpjhEYVgkB2"
      }
    },
    {
      "cell_type": "code",
      "source": [
        "\n",
        "import pandas as pd\n",
        "from sklearn.model_selection import GridSearchCV\n",
        "from sklearn.model_selection import train_test_split\n",
        "from sklearn.tree import DecisionTreeClassifier\n",
        "from sklearn.metrics import accuracy_score, classification_report\n",
        "\n"
      ],
      "metadata": {
        "id": "AbSIHcnnBjGg"
      },
      "execution_count": null,
      "outputs": []
    },
    {
      "cell_type": "code",
      "source": [
        "# 1. Separate features (X) and target (y)\n",
        "X = filtered_data_encoded.drop(columns=['Compound', 'Lowest_distortion'])  #dropped columns that are not useful or are highly correlated\n",
        "y = filtered_data_encoded['Lowest_distortion']\n",
        "\n"
      ],
      "metadata": {
        "id": "UbVq8-Unf36w"
      },
      "execution_count": null,
      "outputs": []
    },
    {
      "cell_type": "code",
      "source": [
        "# 2. Split data into training and testing sets\n",
        "X_train, X_test, y_train, y_test = train_test_split(X, y, test_size=0.2, shuffle=True, stratify=y, random_state=42)  # Adjust test_size and random_state as needed can modify random state to 123"
      ],
      "metadata": {
        "id": "1uEUHysuf_PB"
      },
      "execution_count": null,
      "outputs": []
    },
    {
      "cell_type": "code",
      "source": [
        "# 3. Define the hyperparameter grid to search\n",
        "param_grid = {\n",
        "    'criterion': ['gini', 'entropy'],\n",
        "    'max_depth': [None, 5, 10, 15, 20],\n",
        "    'min_samples_split': [2, 5, 10],\n",
        "    'min_samples_leaf': [1, 2, 4]\n",
        "}"
      ],
      "metadata": {
        "id": "2D1jgLKogCKK"
      },
      "execution_count": null,
      "outputs": []
    },
    {
      "cell_type": "code",
      "source": [
        "# 4. Create and train the Decision Tree model with GridSearchCV\n",
        "tree_model = DecisionTreeClassifier(random_state=42)\n",
        "grid_search = GridSearchCV(tree_model, param_grid, cv=3, scoring='accuracy')  # cv=3/5/10\n",
        "grid_search.fit(X_train, y_train)\n"
      ],
      "metadata": {
        "id": "eA26M7pXgEai"
      },
      "execution_count": null,
      "outputs": []
    },
    {
      "cell_type": "code",
      "source": [
        "# 5. Get the best hyperparameters and model\n",
        "best_params = grid_search.best_params_\n",
        "best_model = grid_search.best_estimator_\n",
        "print(best_params)"
      ],
      "metadata": {
        "id": "7fh3c3HLgGqm"
      },
      "execution_count": null,
      "outputs": []
    },
    {
      "cell_type": "code",
      "source": [
        "# 6. Make predictions on the test set using the best model\n",
        "y_pred_tree = best_model.predict(X_test)"
      ],
      "metadata": {
        "id": "au9pOa1ggJte"
      },
      "execution_count": null,
      "outputs": []
    },
    {
      "cell_type": "code",
      "source": [
        "from sklearn.metrics import accuracy_score, precision_score, recall_score, f1_score # Import necessary functions\n",
        "\n",
        "# Assuming y_pred is already calculated\n",
        "accuracy = accuracy_score(y_test, y_pred_tree)  # Compare y_test (true values) with y_pred (predicted values)\n",
        "precision = precision_score(y_test, y_pred_tree, average='weighted')\n",
        "recall = recall_score(y_test, y_pred_tree, average='weighted')\n",
        "f1 = f1_score(y_test, y_pred_tree, average='weighted')\n",
        "\n",
        "# 3. Print the metrics\n",
        "print(f\"Accuracy: {accuracy:.4f}\")\n",
        "print(f\"Precision: {precision:.4f}\")\n",
        "print(f\"Recall: {recall:.4f}\")\n",
        "print(f\"F1-score: {f1:.4f}\")"
      ],
      "metadata": {
        "id": "AN3HGcn2m9bo"
      },
      "execution_count": null,
      "outputs": []
    },
    {
      "cell_type": "code",
      "source": [
        "# 7. Evaluate the model\n",
        "accuracy = accuracy_score(y_test, y_pred_tree)\n",
        "print(f\"Best Hyperparameters: {best_params}\")\n",
        "print(f\"Accuracy with Best Model: {accuracy}\")"
      ],
      "metadata": {
        "id": "8LqSoI57gM68"
      },
      "execution_count": null,
      "outputs": []
    },
    {
      "cell_type": "code",
      "source": [
        "# Get the unique class labels from the original 'Lowest_distortion' column in filtered_data_encoded\n",
        "target_names = sorted(filtered_data_encoded['Lowest_distortion'].unique())\n",
        "\n",
        "# Generate the classification report\n",
        "report = classification_report(y_test, y_pred_tree, target_names=target_names)\n",
        "print(report)"
      ],
      "metadata": {
        "id": "j1skZ5TQJabn"
      },
      "execution_count": null,
      "outputs": []
    },
    {
      "cell_type": "code",
      "source": [
        "#further analysis\n",
        "#Further analysis and visualization can be done using the following libraries\n",
        "from sklearn.tree import plot_tree\n",
        "import matplotlib.pyplot as plt\n",
        "plt.figure(figsize=(12, 8))\n",
        "plot_tree(best_model, feature_names=X.columns, class_names=['Cubic', 'Orthorhombic', 'Rhombohedral', 'Tetragonal'], filled=True)\n",
        "plt.show()"
      ],
      "metadata": {
        "id": "8PBp40BhgQj5"
      },
      "execution_count": null,
      "outputs": []
    },
    {
      "cell_type": "code",
      "source": [
        "from sklearn.metrics import confusion_matrix\n",
        "import seaborn as sns\n",
        "import matplotlib.pyplot as plt\n",
        "\n",
        "# Assuming you have y_test (true labels) and y_pred (predicted labels)\n",
        "\n",
        "# Get unique class labels directly from y_test\n",
        "target_names = sorted(y_test.unique())\n",
        "\n",
        "# 2. Create confusion matrix\n",
        "cm_knn = confusion_matrix(y_test, y_pred_tree, labels=target_names)\n",
        "\n",
        "# 3. Plotting the confusion matrix\n",
        "plt.figure(figsize=(8, 6))\n",
        "sns.heatmap(cm_knn, annot=True, fmt=\"d\", cmap=\"Blues\",\n",
        "            xticklabels=target_names, yticklabels=target_names)\n",
        "plt.xlabel(\"Predicted Labels\")\n",
        "plt.ylabel(\"True Labels\")\n",
        "plt.title(\"Confusion Matrix for Decision Tree (One-Hot Encoded)\")\n",
        "plt.show()"
      ],
      "metadata": {
        "id": "EZho5e9MMMup"
      },
      "execution_count": null,
      "outputs": []
    },
    {
      "cell_type": "code",
      "source": [
        "import numpy as np\n",
        "import pandas as pd\n",
        "import matplotlib.pyplot as plt\n",
        "from sklearn.model_selection import learning_curve\n",
        "\n",
        "# Assuming you have X_train, y_train, and best_model (Decision Tree) from your previous code\n",
        "\n",
        "# Create CV training and test scores for various training set sizes\n",
        "train_sizes, train_scores, test_scores = learning_curve(\n",
        "    best_model, X_train, y_train, cv=5, scoring='accuracy',\n",
        "    n_jobs=-1, train_sizes=np.linspace(.1, 1.0, 5) # Adjust train_sizes as needed\n",
        ")\n",
        "\n",
        "# Calculate mean and standard deviation for training set scores\n",
        "train_scores_mean = np.mean(train_scores, axis=1)\n",
        "train_scores_std = np.std(train_scores, axis=1)\n",
        "\n",
        "# Calculate mean and standard deviation for test set scores\n",
        "test_scores_mean = np.mean(test_scores, axis=1)\n",
        "test_scores_std = np.std(test_scores, axis=1)\n",
        "\n",
        "# Plot the learning curve\n",
        "plt.figure(figsize=(10, 6))\n",
        "plt.title(\"Learning Curve for Decision Tree Model\")\n",
        "plt.xlabel(\"Training Examples\")\n",
        "plt.ylabel(\"Score\")\n",
        "plt.grid()\n",
        "\n",
        "plt.fill_between(train_sizes, train_scores_mean - train_scores_std,\n",
        "                 train_scores_mean + train_scores_std, alpha=0.1,\n",
        "                 color=\"r\")\n",
        "plt.fill_between(train_sizes, test_scores_mean - test_scores_std,\n",
        "                 test_scores_mean + test_scores_std, alpha=0.1, color=\"g\")\n",
        "plt.plot(train_sizes, train_scores_mean, 'o-', color=\"r\",\n",
        "         label=\"Training score\")\n",
        "plt.plot(train_sizes, test_scores_mean, 'o-', color=\"g\",\n",
        "         label=\"Cross-validation score\")\n",
        "\n",
        "plt.legend(loc=\"best\")\n",
        "plt.show()"
      ],
      "metadata": {
        "id": "L6tTABrQhZdj"
      },
      "execution_count": null,
      "outputs": []
    },
    {
      "cell_type": "markdown",
      "source": [
        "#RANDOM FOREST"
      ],
      "metadata": {
        "id": "-4Z-gY7hgWyu"
      }
    },
    {
      "cell_type": "code",
      "source": [
        "import pandas as pd\n",
        "from sklearn.model_selection import train_test_split, GridSearchCV\n",
        "from sklearn.ensemble import RandomForestClassifier\n",
        "from sklearn.metrics import accuracy_score, classification_report, confusion_matrix\n",
        "import seaborn as sns\n",
        "import matplotlib.pyplot as plt\n",
        "\n",
        "# 1. Separate features (X) and target (y)\n",
        "X = filtered_data_encoded.drop(columns=['Compound', 'Lowest_distortion'])\n",
        "y = filtered_data_encoded['Lowest_distortion']\n",
        "\n",
        "# 2. Split data into training and testing sets\n",
        "X_train, X_test, y_train, y_test = train_test_split(X, y, test_size=0.2, shuffle=True, stratify=y, random_state=42)\n",
        "\n",
        "# 3. Define the hyperparameter grid to search\n",
        "param_grid = {\n",
        "    'n_estimators': [100, 200, 300],  # Number of trees in the forest\n",
        "    'max_depth': [None, 5, 10, 15],  # Maximum depth of the tree\n",
        "    'min_samples_split': [2, 5, 10],  # Minimum number of samples required to split an internal node\n",
        "    'min_samples_leaf': [1, 2, 4]  # Minimum number of samples required to be at a leaf node\n",
        "}\n",
        "\n",
        "# 4. Create and train the Random Forest model with GridSearchCV\n",
        "rf_model = RandomForestClassifier(random_state=42)\n",
        "grid_search = GridSearchCV(rf_model, param_grid, cv=5, scoring='accuracy')\n",
        "grid_search.fit(X_train, y_train)\n",
        "\n",
        "# 5. Get the best hyperparameters and model\n",
        "best_params = grid_search.best_params_\n",
        "best_model = grid_search.best_estimator_\n",
        "print(f\"Best Hyperparameters: {best_params}\")\n",
        "\n",
        "# 6. Make predictions on the test set using the best model\n",
        "y_pred_rf = best_model.predict(X_test)\n",
        "\n",
        "# 7. Evaluate the model\n",
        "accuracy = accuracy_score(y_test, y_pred_rf)\n",
        "print(f\"Accuracy with Best Model: {accuracy}\")\n",
        "\n",
        "# 8. Generate classification report\n",
        "target_names = sorted(filtered_data_encoded['Lowest_distortion'].unique())\n",
        "report = classification_report(y_test, y_pred_rf, target_names=target_names)\n",
        "print(report)\n",
        "\n",
        "# 9. Create and plot confusion matrix\n",
        "cm = confusion_matrix(y_test, y_pred_rf, labels=target_names)\n",
        "plt.figure(figsize=(8, 6))\n",
        "sns.heatmap(cm, annot=True, fmt=\"d\", cmap=\"Blues\",\n",
        "            xticklabels=target_names, yticklabels=target_names)\n",
        "plt.xlabel(\"Predicted Labels\")\n",
        "plt.ylabel(\"True Labels\")\n",
        "plt.title(\"Confusion Matrix for Random Forest Model\")\n",
        "plt.show()"
      ],
      "metadata": {
        "id": "OXklVbzGeDny"
      },
      "execution_count": null,
      "outputs": []
    },
    {
      "cell_type": "code",
      "source": [
        "import pandas as pd\n",
        "import matplotlib.pyplot as plt\n",
        "\n",
        "# Assuming 'best_model' is your trained Random Forest model\n",
        "# and 'X' is your DataFrame containing the features\n",
        "\n",
        "# Get feature importances\n",
        "feature_importances = best_model.feature_importances_\n",
        "\n",
        "# Create a DataFrame to store feature importances\n",
        "feature_importance_df = pd.DataFrame({\n",
        "    'Feature': X.columns,\n",
        "    'Importance': feature_importances\n",
        "})\n",
        "\n",
        "# Sort the DataFrame by importance in descending order\n",
        "feature_importance_df = feature_importance_df.sort_values(by='Importance', ascending=False)\n",
        "\n",
        "# Plot the feature importances\n",
        "plt.figure(figsize=(10, 6))\n",
        "plt.barh(feature_importance_df['Feature'], feature_importance_df['Importance'])\n",
        "plt.xlabel(\"Importance\")\n",
        "plt.ylabel(\"Feature\")\n",
        "plt.title(\"Feature Importance in Random Forest Model\")\n",
        "plt.tight_layout()\n",
        "plt.show()"
      ],
      "metadata": {
        "id": "gy6PVu1pZJY-"
      },
      "execution_count": null,
      "outputs": []
    },
    {
      "cell_type": "code",
      "source": [
        "import numpy as np\n",
        "import pandas as pd\n",
        "import matplotlib.pyplot as plt\n",
        "from sklearn.model_selection import learning_curve\n",
        "from sklearn.ensemble import RandomForestClassifier\n",
        "\n",
        "# Assuming you have X_train, y_train, and best_model from your previous code\n",
        "\n",
        "# Create CV training and test scores for various training set sizes\n",
        "train_sizes, train_scores, test_scores = learning_curve(\n",
        "    best_model, X_train, y_train, cv=5, scoring='accuracy',\n",
        "    n_jobs=-1, train_sizes=np.linspace(.1, 1.0, 5)  # Adjust train_sizes as needed\n",
        ")\n",
        "\n",
        "# Calculate mean and standard deviation for training set scores\n",
        "train_scores_mean = np.mean(train_scores, axis=1)\n",
        "train_scores_std = np.std(train_scores, axis=1)\n",
        "\n",
        "# Calculate mean and standard deviation for test set scores\n",
        "test_scores_mean = np.mean(test_scores, axis=1)\n",
        "test_scores_std = np.std(test_scores, axis=1)\n",
        "\n",
        "# Plot the learning curve\n",
        "plt.figure(figsize=(10, 6))\n",
        "plt.title(\"Learning Curve for Random Forest Model\")\n",
        "plt.xlabel(\"Training Examples\")\n",
        "plt.ylabel(\"Score\")\n",
        "plt.grid()\n",
        "\n",
        "plt.fill_between(train_sizes, train_scores_mean - train_scores_std,\n",
        "                 train_scores_mean + train_scores_std, alpha=0.1,\n",
        "                 color=\"r\")\n",
        "plt.fill_between(train_sizes, test_scores_mean - test_scores_std,\n",
        "                 test_scores_mean + test_scores_std, alpha=0.1, color=\"g\")\n",
        "plt.plot(train_sizes, train_scores_mean, 'o-', color=\"r\",\n",
        "         label=\"Training score\")\n",
        "plt.plot(train_sizes, test_scores_mean, 'o-', color=\"g\",\n",
        "         label=\"Cross-validation score\")\n",
        "\n",
        "plt.legend(loc=\"best\")\n",
        "plt.show()"
      ],
      "metadata": {
        "id": "M2P0lC28Z75I"
      },
      "execution_count": null,
      "outputs": []
    },
    {
      "cell_type": "markdown",
      "source": [
        "\n",
        "Running with less estimators\n",
        "\n",
        "\n"
      ],
      "metadata": {
        "id": "FQtcJ818miLK"
      }
    },
    {
      "cell_type": "code",
      "source": [
        "from sklearn.ensemble import RandomForestClassifier\n",
        "from sklearn.model_selection import GridSearchCV\n",
        "from sklearn.metrics import accuracy_score, classification_report, confusion_matrix, ConfusionMatrixDisplay\n",
        "\n",
        "X, y = filtered_data_encoded[[\"tG\", \"ΔENR\", 'EN(B)']], filtered_data_encoded[\"Lowest_distortion\"]\n",
        "X_train, X_test, y_train, y_test = train_test_split(X, y, test_size=0.5, random_state=0)\n",
        "\n",
        "param_grid = {\n",
        "    \"n_estimators\":[100, 200, 300],\n",
        "    \"max_depth\":[None, 5, 10, 15],\n",
        "    \"min_samples_split\":[2, 5, 10],\n",
        "    \"min_samples_leaf\":[1, 2, 4]\n",
        "}\n",
        "rf = RandomForestClassifier(random_state=42)\n",
        "grid_search = GridSearchCV(rf, param_grid, cv=5, scoring=\"accuracy\")\n",
        "grid_search.fit(X_train, y_train)\n",
        "# performance of model\n",
        "best_params = grid_search.best_params_\n",
        "best_model  = grid_search.best_estimator_\n",
        "y_pred = best_model.predict(X_test)\n",
        "accuracy = accuracy_score(y_test, y_pred)\n",
        "print(f\"Accuracy with Best Model: {accuracy}\")\n"
      ],
      "metadata": {
        "id": "fzKiVrrKjfea"
      },
      "execution_count": null,
      "outputs": []
    },
    {
      "cell_type": "code",
      "source": [
        "# generate classification report\n",
        "target_names = sorted(filtered_data_encoded[\"Lowest_distortion\"].unique())\n",
        "report = classification_report(y_test, y_pred, target_names = target_names)\n",
        "print(report)\n"
      ],
      "metadata": {
        "id": "lbgkUasCuvzi"
      },
      "execution_count": null,
      "outputs": []
    },
    {
      "cell_type": "code",
      "source": [
        "cm = confusion_matrix(y_test, y_pred, labels=target_names)  # Create confusion matrix\n",
        "disp = ConfusionMatrixDisplay(confusion_matrix=cm, display_labels=target_names)  # Create display object\n",
        "disp.plot(cmap='Blues')  # Plot the confusion matrix with a blue colormap\n",
        "plt.title(\"Confusion Matrix for Random Forest Model\")  # Add a title\n",
        "plt.show()  # Display the plot"
      ],
      "metadata": {
        "id": "J6x5PcpUqvnO"
      },
      "execution_count": null,
      "outputs": []
    },
    {
      "cell_type": "markdown",
      "source": [
        "# Predicting the missing lowest_distortion categories\n"
      ],
      "metadata": {
        "id": "h7LPxgEYszMe"
      }
    },
    {
      "cell_type": "code",
      "source": [
        "print(len(data_copy.loc[data_copy[\"Lowest_distortion\"] == '-', :]))\n"
      ],
      "metadata": {
        "id": "dLWv0Bxps5ye"
      },
      "execution_count": null,
      "outputs": []
    },
    {
      "cell_type": "code",
      "source": [
        "df_subset = data_copy[data_copy['Lowest_distortion'] == '-'].copy()"
      ],
      "metadata": {
        "id": "8FsHylZ35ggc"
      },
      "execution_count": null,
      "outputs": []
    },
    {
      "cell_type": "code",
      "source": [
        "df_subset.shape"
      ],
      "metadata": {
        "id": "obEUouM0-G9k"
      },
      "execution_count": null,
      "outputs": []
    },
    {
      "cell_type": "markdown",
      "source": [
        "There are 53 points in the dataset with no lowest_distortion category that we will try to predict with the random forest, which had the best accuracy\n"
      ],
      "metadata": {
        "id": "aw6l6AKizKBE"
      }
    },
    {
      "cell_type": "code",
      "source": [
        "df_subset.dtypes"
      ],
      "metadata": {
        "id": "1u0WzOvp8PPV"
      },
      "execution_count": null,
      "outputs": []
    },
    {
      "cell_type": "code",
      "source": [
        "# Assuming df_subset is already defined\n",
        "\n",
        "# 1. Create a copy to avoid modifying the original dataframe\n",
        "df_subset_encoded = df_subset.copy()\n",
        "\n",
        "# 2. Perform one-hot encoding on 'v(A)' and 'v(B)' columns\n",
        "df_subset_encoded = pd.get_dummies(df_subset_encoded, columns=['v(A)', 'v(B)'], prefix=['v(A)', 'v(B)'])\n",
        "\n",
        "# 3. View the first few rows to check the encoding\n",
        "df_subset_encoded.head()"
      ],
      "metadata": {
        "id": "l8sPDfDd_eKp"
      },
      "execution_count": null,
      "outputs": []
    },
    {
      "cell_type": "code",
      "source": [
        "remove_columns = ['A', 'B', 'In_literature', 'τ']\n",
        "df_subset_encoded.drop(columns=remove_columns, inplace=True)\n",
        "df_subset_encoded.head(5)\n",
        "df_subset_encoded.shape"
      ],
      "metadata": {
        "id": "AhS0uNtn_kLZ"
      },
      "execution_count": null,
      "outputs": []
    },
    {
      "cell_type": "code",
      "source": [
        "import pandas as pd\n",
        "from sklearn.model_selection import train_test_split, GridSearchCV\n",
        "from sklearn.ensemble import RandomForestClassifier\n",
        "from sklearn.metrics import accuracy_score, classification_report, confusion_matrix\n",
        "import seaborn as sns\n",
        "import matplotlib.pyplot as plt\n",
        "\n",
        "# 1. Separate features (X) and target (y)\n",
        "X = filtered_data_encoded.drop(columns=['Compound', 'Lowest_distortion'])\n",
        "y = filtered_data_encoded['Lowest_distortion']\n",
        "\n",
        "# 2. Split data into training and testing sets\n",
        "X_train, X_test, y_train, y_test = train_test_split(X, y, test_size=0.2, shuffle=True, stratify=y, random_state=42)\n",
        "\n",
        "# 3. Define the hyperparameter grid to search\n",
        "param_grid = {\n",
        "    'n_estimators': [100, 200, 300],  # Number of trees in the forest\n",
        "    'max_depth': [None, 5, 10, 15],  # Maximum depth of the tree\n",
        "    'min_samples_split': [2, 5, 10],  # Minimum number of samples required to split an internal node\n",
        "    'min_samples_leaf': [1, 2, 4]  # Minimum number of samples required to be at a leaf node\n",
        "}\n",
        "\n",
        "# 4. Create and train the Random Forest model with GridSearchCV\n",
        "rf_model = RandomForestClassifier(random_state=42)\n",
        "grid_search = GridSearchCV(rf_model, param_grid, cv=5, scoring='accuracy')\n",
        "grid_search.fit(X_train, y_train)\n",
        "\n",
        "# 5. Get the best hyperparameters and model\n",
        "best_params = grid_search.best_params_\n",
        "best_model = grid_search.best_estimator_\n",
        "print(f\"Best Hyperparameters: {best_params}\")\n",
        "\n",
        "# Ensure df_subset_encoded has the same columns as X_train\n",
        "df_subset_encoded = df_subset_encoded.reindex(columns=X_train.columns, fill_value=0)\n",
        "\n",
        "# 8. Make predictions using the trained model on the subset:\n",
        "y_pred = best_model.predict(df_subset_encoded)\n",
        "\n",
        "\n",
        "# 9. Add the predicted distortions back to the original subset:\n",
        "df_subset_encoded['Predicted_Lowest_distortion'] = y_pred\n",
        "\n"
      ],
      "metadata": {
        "id": "XfIX28Nk6kn0"
      },
      "execution_count": null,
      "outputs": []
    },
    {
      "cell_type": "code",
      "source": [
        "print(df_subset_encoded['Predicted_Lowest_distortion'])"
      ],
      "metadata": {
        "id": "tiDHBBvI_h8R"
      },
      "execution_count": null,
      "outputs": []
    },
    {
      "cell_type": "code",
      "source": [
        "# Generate histogram\n",
        "plt.figure(figsize=(8, 6))  # Adjust figure size if needed\n",
        "plt.hist(df_subset_encoded['Predicted_Lowest_distortion'], bins=df_subset_encoded['Predicted_Lowest_distortion'].nunique(), edgecolor='black')\n",
        "plt.xlabel(\"Predicted Lowest Distortion\")\n",
        "plt.ylabel(\"Frequency\")\n",
        "plt.title(\"Distribution of Predicted Lowest Distortion\")\n",
        "plt.xticks(rotation=45, ha='right')  # Rotate x-axis labels for better readability\n",
        "plt.tight_layout()  # Adjust layout for better spacing\n",
        "plt.show()"
      ],
      "metadata": {
        "id": "qo1h3cW46tHA"
      },
      "execution_count": null,
      "outputs": []
    },
    {
      "cell_type": "code",
      "source": [
        "models = ['KNN', 'Decision Tree', 'Random Forest']\n",
        "accuracies = [accuracy_score(y_test, y_pred_knn),\n",
        "              accuracy_score(y_test, y_pred_tree),\n",
        "              accuracy_score(y_test, y_pred_rf)]\n",
        "\n",
        "# Create bar chart\n",
        "plt.figure(figsize=(8, 6))\n",
        "plt.bar(models, accuracies, color=['blue', 'green', 'red'])\n",
        "plt.xlabel(\"Model\")\n",
        "plt.ylabel(\"Accuracy\")\n",
        "plt.title(\"Comparison of Model Accuracies\")\n",
        "plt.ylim(0, 1)  # Set y-axis limits to 0-1 for accuracy\n",
        "plt.show()"
      ],
      "metadata": {
        "id": "X8Zh-Ml6Evgj"
      },
      "execution_count": null,
      "outputs": []
    },
    {
      "cell_type": "code",
      "source": [],
      "metadata": {
        "id": "1SoldgI5JqCv"
      },
      "execution_count": null,
      "outputs": []
    }
  ]
}
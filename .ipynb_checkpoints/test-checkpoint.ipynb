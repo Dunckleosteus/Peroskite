{
 "cells": [
  {
   "cell_type": "code",
   "execution_count": 5,
   "id": "91d58dab-4c7a-4c66-a359-2884953fec45",
   "metadata": {},
   "outputs": [],
   "source": [
    "import pandas as pd\n",
    "import numpy as np\n",
    "from itertools import combinations\n",
    "import matplotlib.pyplot as plt\n",
    "import os\n",
    "import wget"
   ]
  },
  {
   "cell_type": "code",
   "execution_count": 6,
   "id": "f4301552-df7c-43c7-b88f-e0894f820e6d",
   "metadata": {},
   "outputs": [
    {
     "data": {
      "text/html": [
       "<div>\n",
       "<style scoped>\n",
       "    .dataframe tbody tr th:only-of-type {\n",
       "        vertical-align: middle;\n",
       "    }\n",
       "\n",
       "    .dataframe tbody tr th {\n",
       "        vertical-align: top;\n",
       "    }\n",
       "\n",
       "    .dataframe thead th {\n",
       "        text-align: right;\n",
       "    }\n",
       "</style>\n",
       "<table border=\"1\" class=\"dataframe\">\n",
       "  <thead>\n",
       "    <tr style=\"text-align: right;\">\n",
       "      <th></th>\n",
       "      <th>r(AXII)(Å)</th>\n",
       "      <th>r(AVI)(Å)</th>\n",
       "      <th>r(BVI)(Å)</th>\n",
       "      <th>EN(A)</th>\n",
       "      <th>EN(B)</th>\n",
       "      <th>l(A-O)(Å)</th>\n",
       "      <th>l(B-O)(Å)</th>\n",
       "      <th>ΔENR</th>\n",
       "      <th>tG</th>\n",
       "      <th>μ</th>\n",
       "    </tr>\n",
       "  </thead>\n",
       "  <tbody>\n",
       "    <tr>\n",
       "      <th>count</th>\n",
       "      <td>5329.000000</td>\n",
       "      <td>5329.000000</td>\n",
       "      <td>5329.000000</td>\n",
       "      <td>5329.000000</td>\n",
       "      <td>5329.000000</td>\n",
       "      <td>5329.000000</td>\n",
       "      <td>5329.000000</td>\n",
       "      <td>5329.000000</td>\n",
       "      <td>5329.000000</td>\n",
       "      <td>5329.000000</td>\n",
       "    </tr>\n",
       "    <tr>\n",
       "      <th>mean</th>\n",
       "      <td>0.974656</td>\n",
       "      <td>0.825617</td>\n",
       "      <td>0.817845</td>\n",
       "      <td>1.572466</td>\n",
       "      <td>1.572466</td>\n",
       "      <td>2.289800</td>\n",
       "      <td>2.012587</td>\n",
       "      <td>-2.199993</td>\n",
       "      <td>0.766090</td>\n",
       "      <td>0.584176</td>\n",
       "    </tr>\n",
       "    <tr>\n",
       "      <th>std</th>\n",
       "      <td>0.337139</td>\n",
       "      <td>0.245000</td>\n",
       "      <td>0.247480</td>\n",
       "      <td>0.449248</td>\n",
       "      <td>0.449248</td>\n",
       "      <td>0.664239</td>\n",
       "      <td>0.598509</td>\n",
       "      <td>0.668465</td>\n",
       "      <td>0.136280</td>\n",
       "      <td>0.176770</td>\n",
       "    </tr>\n",
       "    <tr>\n",
       "      <th>min</th>\n",
       "      <td>0.270000</td>\n",
       "      <td>0.270000</td>\n",
       "      <td>0.270000</td>\n",
       "      <td>0.790000</td>\n",
       "      <td>0.790000</td>\n",
       "      <td>0.000000</td>\n",
       "      <td>0.000000</td>\n",
       "      <td>-5.411536</td>\n",
       "      <td>0.384648</td>\n",
       "      <td>0.192857</td>\n",
       "    </tr>\n",
       "    <tr>\n",
       "      <th>25%</th>\n",
       "      <td>0.690000</td>\n",
       "      <td>0.630000</td>\n",
       "      <td>0.630000</td>\n",
       "      <td>1.200000</td>\n",
       "      <td>1.200000</td>\n",
       "      <td>2.290644</td>\n",
       "      <td>1.956808</td>\n",
       "      <td>-2.604821</td>\n",
       "      <td>0.668537</td>\n",
       "      <td>0.450000</td>\n",
       "    </tr>\n",
       "    <tr>\n",
       "      <th>50%</th>\n",
       "      <td>0.930000</td>\n",
       "      <td>0.800000</td>\n",
       "      <td>0.770000</td>\n",
       "      <td>1.550000</td>\n",
       "      <td>1.550000</td>\n",
       "      <td>2.393444</td>\n",
       "      <td>2.096141</td>\n",
       "      <td>-2.101179</td>\n",
       "      <td>0.756440</td>\n",
       "      <td>0.550000</td>\n",
       "    </tr>\n",
       "    <tr>\n",
       "      <th>75%</th>\n",
       "      <td>1.180000</td>\n",
       "      <td>0.950000</td>\n",
       "      <td>0.950000</td>\n",
       "      <td>1.930000</td>\n",
       "      <td>1.930000</td>\n",
       "      <td>2.571812</td>\n",
       "      <td>2.286435</td>\n",
       "      <td>-1.711500</td>\n",
       "      <td>0.850628</td>\n",
       "      <td>0.678571</td>\n",
       "    </tr>\n",
       "    <tr>\n",
       "      <th>max</th>\n",
       "      <td>1.880000</td>\n",
       "      <td>1.670000</td>\n",
       "      <td>1.670000</td>\n",
       "      <td>2.540000</td>\n",
       "      <td>2.540000</td>\n",
       "      <td>3.300176</td>\n",
       "      <td>3.009747</td>\n",
       "      <td>-0.601714</td>\n",
       "      <td>1.388809</td>\n",
       "      <td>1.192857</td>\n",
       "    </tr>\n",
       "  </tbody>\n",
       "</table>\n",
       "</div>"
      ],
      "text/plain": [
       "        r(AXII)(Å)    r(AVI)(Å)    r(BVI)(Å)        EN(A)        EN(B)  \\\n",
       "count  5329.000000  5329.000000  5329.000000  5329.000000  5329.000000   \n",
       "mean      0.974656     0.825617     0.817845     1.572466     1.572466   \n",
       "std       0.337139     0.245000     0.247480     0.449248     0.449248   \n",
       "min       0.270000     0.270000     0.270000     0.790000     0.790000   \n",
       "25%       0.690000     0.630000     0.630000     1.200000     1.200000   \n",
       "50%       0.930000     0.800000     0.770000     1.550000     1.550000   \n",
       "75%       1.180000     0.950000     0.950000     1.930000     1.930000   \n",
       "max       1.880000     1.670000     1.670000     2.540000     2.540000   \n",
       "\n",
       "         l(A-O)(Å)    l(B-O)(Å)         ΔENR           tG            μ  \n",
       "count  5329.000000  5329.000000  5329.000000  5329.000000  5329.000000  \n",
       "mean      2.289800     2.012587    -2.199993     0.766090     0.584176  \n",
       "std       0.664239     0.598509     0.668465     0.136280     0.176770  \n",
       "min       0.000000     0.000000    -5.411536     0.384648     0.192857  \n",
       "25%       2.290644     1.956808    -2.604821     0.668537     0.450000  \n",
       "50%       2.393444     2.096141    -2.101179     0.756440     0.550000  \n",
       "75%       2.571812     2.286435    -1.711500     0.850628     0.678571  \n",
       "max       3.300176     3.009747    -0.601714     1.388809     1.192857  "
      ]
     },
     "execution_count": 6,
     "metadata": {},
     "output_type": "execute_result"
    }
   ],
   "source": [
    "path_to_file = \"Crystal_structure.csv\"\n",
    "if os.path.exists(path_to_file):\n",
    "    df = pd.read_csv(path_to_file)\n",
    "else:\n",
    "    wget.url(\"https://github.com/Dunckleosteus/Peroskite/blob/main/Crystal_structure.csv\")\n",
    "    df = pd.read_csv(\"/content/Crystal_structure.csv\")\n",
    "     \n",
    "df.describe()"
   ]
  },
  {
   "cell_type": "code",
   "execution_count": 7,
   "id": "303b0de7-6660-4de3-a779-c0aa435ba0ec",
   "metadata": {},
   "outputs": [
    {
     "name": "stdout",
     "output_type": "stream",
     "text": [
      "Compound\n",
      "A\n",
      "B\n",
      "In literature\n",
      "v(A)\n",
      "v(B)\n",
      "r(AXII)(Å)\n",
      "r(AVI)(Å)\n",
      "r(BVI)(Å)\n",
      "EN(A)\n",
      "EN(B)\n",
      "l(A-O)(Å)\n",
      "l(B-O)(Å)\n",
      "ΔENR\n",
      "tG\n",
      "τ\n",
      "μ\n",
      "Lowest distortion\n"
     ]
    }
   ],
   "source": [
    "for col in df.columns:\n",
    "    print(col)"
   ]
  },
  {
   "cell_type": "markdown",
   "id": "0fd61ad5-3c17-4c6b-a64f-412ef1f809ae",
   "metadata": {},
   "source": [
    "# Data\n",
    "The element we are are trying to estimate in our dataset is lowest distortion. This is our label. Now we need to identify the rows where these label is missing, for the lines that do have this label, it must be split into test and traind dataset.\n",
    "## Columns"
   ]
  },
  {
   "cell_type": "code",
   "execution_count": 8,
   "id": "dfcd8d43-7275-4c76-84fa-80aafe541eaf",
   "metadata": {},
   "outputs": [
    {
     "data": {
      "text/plain": [
       "Compound              object\n",
       "A                     object\n",
       "B                     object\n",
       "In literature           bool\n",
       "v(A)                  object\n",
       "v(B)                  object\n",
       "r(AXII)(Å)           float64\n",
       "r(AVI)(Å)            float64\n",
       "r(BVI)(Å)            float64\n",
       "EN(A)                float64\n",
       "EN(B)                float64\n",
       "l(A-O)(Å)            float64\n",
       "l(B-O)(Å)            float64\n",
       "ΔENR                 float64\n",
       "tG                   float64\n",
       "τ                     object\n",
       "μ                    float64\n",
       "Lowest distortion     object\n",
       "dtype: object"
      ]
     },
     "execution_count": 8,
     "metadata": {},
     "output_type": "execute_result"
    }
   ],
   "source": [
    "df.dtypes"
   ]
  },
  {
   "cell_type": "markdown",
   "id": "e2319e3d-c342-4956-9bbf-0d4ee74da5e7",
   "metadata": {},
   "source": [
    "As we can see only some of the columns are numbers. These are: \n",
    "```\n",
    "[\"r(AXII)(Å)\", \"r(AVI)(Å)\", \"r(BVI)(Å)\", \"EN(A)\", \"EN(B)\", \"l(A-O)(Å)\", \"l(B-O)(Å)\", \"ΔENR\", \"tG\", \"μ\"]\n",
    "```"
   ]
  },
  {
   "cell_type": "markdown",
   "id": "70b9f83e-ee67-4f2f-8d4c-4ca41b552595",
   "metadata": {},
   "source": [
    "## Missing values"
   ]
  },
  {
   "cell_type": "code",
   "execution_count": 9,
   "id": "881282fb-1950-41ab-9566-270adda6160b",
   "metadata": {},
   "outputs": [
    {
     "name": "stdout",
     "output_type": "stream",
     "text": [
      "Intial df length: 5329\n",
      "Len df after dropna: 5329\n"
     ]
    }
   ],
   "source": [
    "print(\"Intial df length: {}\".format(len(df.index)))\n",
    "print(\"Len df after dropna: {}\".format(len(df.dropna(subset=\"Lowest distortion\", inplace=False).index)))"
   ]
  },
  {
   "cell_type": "markdown",
   "id": "5b591876-14f4-4cde-b26d-f29bdb22233c",
   "metadata": {},
   "source": [
    "We can see that the length of the dataframe does not change after removing nan, hence all the rows have data. Upon closer inspection we can see that the some of the labels are replaced by \"-\"."
   ]
  },
  {
   "cell_type": "code",
   "execution_count": 10,
   "id": "d984c7e3-40f9-4803-8541-ce8a9e7b460d",
   "metadata": {},
   "outputs": [
    {
     "name": "stdout",
     "output_type": "stream",
     "text": [
      "53\n"
     ]
    }
   ],
   "source": [
    "print(len(df.loc[df[\"Lowest distortion\"] == '-', :]))\n",
    "df_subset = df.loc[df[\"Lowest distortion\"] != '-', :].copy()"
   ]
  },
  {
   "cell_type": "markdown",
   "id": "ddfc9def-4778-47b4-a952-ade40f66fef4",
   "metadata": {},
   "source": [
    "We can see that 53 values are missing. We create a subset based on this observation."
   ]
  },
  {
   "cell_type": "markdown",
   "id": "7a5ee831-b262-4f70-b2e3-e8b1536deedf",
   "metadata": {},
   "source": [
    "# Quality control\n",
    "## Missing values\n",
    "Now that we have identified the columns that are numeric, now we check to see how many values are missing."
   ]
  },
  {
   "cell_type": "code",
   "execution_count": 11,
   "id": "125b6694-2fc6-4b37-889a-9846e89542b2",
   "metadata": {},
   "outputs": [
    {
     "name": "stdout",
     "output_type": "stream",
     "text": [
      "r(AXII)(Å): 5329-5329 = 0 missing values\n",
      "r(AVI)(Å): 5329-5329 = 0 missing values\n",
      "r(BVI)(Å): 5329-5329 = 0 missing values\n",
      "EN(A): 5329-5329 = 0 missing values\n",
      "EN(B): 5329-5329 = 0 missing values\n",
      "l(A-O)(Å): 5329-5329 = 0 missing values\n",
      "l(B-O)(Å): 5329-5329 = 0 missing values\n",
      "ΔENR: 5329-5329 = 0 missing values\n",
      "tG: 5329-5329 = 0 missing values\n",
      "μ: 5329-5329 = 0 missing values\n"
     ]
    }
   ],
   "source": [
    "numeric_cols = [\"r(AXII)(Å)\", \"r(AVI)(Å)\", \"r(BVI)(Å)\", \"EN(A)\", \"EN(B)\", \"l(A-O)(Å)\", \"l(B-O)(Å)\", \"ΔENR\", \"tG\", \"μ\"]\n",
    "start_len = len(df.index)\n",
    "for col in numeric_cols: \n",
    "    print(\"{}: {}-{} = {} missing values\".format(col, start_len, len(df.dropna(subset=col, inplace=False)), start_len - len(df.dropna(subset=col, inplace=False))))"
   ]
  },
  {
   "cell_type": "markdown",
   "id": "e50d6121-24aa-4c5a-9e1c-10818f4ea112",
   "metadata": {},
   "source": [
    "None of them seen to have any missing values."
   ]
  },
  {
   "cell_type": "markdown",
   "id": "eff2329f-6fce-4026-bd7a-c4daaf6f0fa8",
   "metadata": {},
   "source": [
    "# Basic ML workflow"
   ]
  },
  {
   "cell_type": "code",
   "execution_count": 12,
   "id": "44e3ca10-0ccc-4440-b4b3-3a6a38f4ffde",
   "metadata": {},
   "outputs": [
    {
     "name": "stdout",
     "output_type": "stream",
     "text": [
      "Number of mislabeled points out of a total 2638 points : 1111\n"
     ]
    },
    {
     "data": {
      "text/plain": [
       "<sklearn.metrics._plot.confusion_matrix.ConfusionMatrixDisplay at 0x7fe7075fbbc0>"
      ]
     },
     "execution_count": 12,
     "metadata": {},
     "output_type": "execute_result"
    },
    {
     "data": {
      "image/png": "[encoded data removed]",
      "text/plain": [
       "<Figure size 640x480 with 2 Axes>"
      ]
     },
     "metadata": {},
     "output_type": "display_data"
    }
   ],
   "source": [
    "from sklearn.model_selection import train_test_split\n",
    "from sklearn.naive_bayes import GaussianNB\n",
    "from sklearn.metrics import confusion_matrix, ConfusionMatrixDisplay\n",
    "\n",
    "X, y = df_subset[numeric_cols], df_subset[\"Lowest distortion\"]\n",
    "X_train, X_test, y_train, y_test = train_test_split(X, y, test_size=0.5, random_state=0)\n",
    "\n",
    "\n",
    "gnb = GaussianNB()\n",
    "y_pred = gnb.fit(X_train, y_train).predict(X_test)\n",
    "print(\"Number of mislabeled points out of a total %d points : %d\"% (X_test.shape[0], (y_test != y_pred).sum()))\n",
    "cm = confusion_matrix(y_test, y_pred, labels=gnb.classes_, normalize='true')\n",
    "disp = ConfusionMatrixDisplay(confusion_matrix=cm, display_labels=gnb.classes_)\n",
    "disp.plot()"
   ]
  },
  {
   "cell_type": "markdown",
   "id": "d020bb59-2a3e-4335-a7ba-93f0a6a8400e",
   "metadata": {},
   "source": [
    "# Permutation\n",
    "Test all the possible permutations and re-run the same model to see which one has the best result."
   ]
  },
  {
   "cell_type": "code",
   "execution_count": 13,
   "id": "8122a247-5787-45dd-b22a-732a5fcbaab5",
   "metadata": {},
   "outputs": [
    {
     "name": "stdout",
     "output_type": "stream",
     "text": [
      "columns ('r(AXII)(Å)', 'r(AVI)(Å)') -> 36.62 % of errors\n",
      "columns ('r(AXII)(Å)', 'r(BVI)(Å)') -> 37.87 % of errors\n",
      "columns ('r(AXII)(Å)', 'EN(A)') -> 38.17 % of errors\n",
      "columns ('r(AXII)(Å)', 'EN(B)') -> 38.21 % of errors\n",
      "columns ('r(AXII)(Å)', 'l(A-O)(Å)') -> 37.19 % of errors\n",
      "columns ('r(AXII)(Å)', 'l(B-O)(Å)') -> 39.61 % of errors\n",
      "columns ('r(AXII)(Å)', 'ΔENR') -> 39.88 % of errors\n",
      "columns ('r(AXII)(Å)', 'tG') -> 34.8 % of errors\n",
      "columns ('r(AXII)(Å)', 'μ') -> 37.87 % of errors\n",
      "columns ('r(AVI)(Å)', 'r(BVI)(Å)') -> 37.19 % of errors\n",
      "columns ('r(AVI)(Å)', 'EN(A)') -> 36.69 % of errors\n",
      "columns ('r(AVI)(Å)', 'EN(B)') -> 38.32 % of errors\n",
      "columns ('r(AVI)(Å)', 'l(A-O)(Å)') -> 39.08 % of errors\n",
      "columns ('r(AVI)(Å)', 'l(B-O)(Å)') -> 40.14 % of errors\n",
      "columns ('r(AVI)(Å)', 'ΔENR') -> 40.41 % of errors\n",
      "columns ('r(AVI)(Å)', 'tG') -> 34.84 % of errors\n",
      "columns ('r(AVI)(Å)', 'μ') -> 37.19 % of errors\n",
      "columns ('r(BVI)(Å)', 'EN(A)') -> 37.6 % of errors\n",
      "columns ('r(BVI)(Å)', 'EN(B)') -> 36.05 % of errors\n",
      "columns ('r(BVI)(Å)', 'l(A-O)(Å)') -> 38.13 % of errors\n",
      "columns ('r(BVI)(Å)', 'l(B-O)(Å)') -> 38.25 % of errors\n",
      "columns ('r(BVI)(Å)', 'ΔENR') -> 37.64 % of errors\n",
      "columns ('r(BVI)(Å)', 'tG') -> 37.87 % of errors\n",
      "columns ('r(BVI)(Å)', 'μ') -> 36.54 % of errors\n",
      "columns ('EN(A)', 'EN(B)') -> 38.4 % of errors\n",
      "columns ('EN(A)', 'l(A-O)(Å)') -> 39.5 % of errors\n",
      "columns ('EN(A)', 'l(B-O)(Å)') -> 41.51 % of errors\n",
      "columns ('EN(A)', 'ΔENR') -> 42.61 % of errors\n",
      "columns ('EN(A)', 'tG') -> 35.86 % of errors\n",
      "columns ('EN(A)', 'μ') -> 37.6 % of errors\n",
      "columns ('EN(B)', 'l(A-O)(Å)') -> 39.08 % of errors\n",
      "columns ('EN(B)', 'l(B-O)(Å)') -> 39.99 % of errors\n",
      "columns ('EN(B)', 'ΔENR') -> 38.02 % of errors\n",
      "columns ('EN(B)', 'tG') -> 38.13 % of errors\n",
      "columns ('EN(B)', 'μ') -> 36.05 % of errors\n",
      "columns ('l(A-O)(Å)', 'l(B-O)(Å)') -> 41.96 % of errors\n",
      "columns ('l(A-O)(Å)', 'ΔENR') -> 38.25 % of errors\n",
      "columns ('l(A-O)(Å)', 'tG') -> 39.46 % of errors\n",
      "columns ('l(A-O)(Å)', 'μ') -> 38.13 % of errors\n",
      "columns ('l(B-O)(Å)', 'ΔENR') -> 39.42 % of errors\n",
      "columns ('l(B-O)(Å)', 'tG') -> 38.82 % of errors\n",
      "columns ('l(B-O)(Å)', 'μ') -> 38.25 % of errors\n",
      "columns ('ΔENR', 'tG') -> 37.64 % of errors\n",
      "columns ('ΔENR', 'μ') -> 37.64 % of errors\n",
      "columns ('tG', 'μ') -> 37.87 % of errors\n",
      "34.8\n"
     ]
    }
   ],
   "source": [
    "number_of_columns_in_model = 2\n",
    "minimum = 100\n",
    "for comb in combinations(numeric_cols, number_of_columns_in_model):\n",
    "    X, y = df_subset[[x for x in comb]], df_subset[\"Lowest distortion\"]\n",
    "    X_train, X_test, y_train, y_test = train_test_split(X, y, test_size=0.5, random_state=0)\n",
    "    gnb = GaussianNB()\n",
    "    y_pred = gnb.fit(X_train, y_train).predict(X_test)\n",
    "    \n",
    "    error = round((y_test != y_pred).sum() / X_test.shape[0]*100, 2)\n",
    "    minimum = error if error < minimum else minimum\n",
    "    print(\"columns {} -> {} % of errors\".format(comb, error))\n",
    "    \n",
    "print(minimum)"
   ]
  },
  {
   "cell_type": "code",
   "execution_count": 14,
   "id": "9af2d82b-a5fe-4dd5-bcd9-d7b4fc6674f1",
   "metadata": {},
   "outputs": [
    {
     "data": {
      "text/html": [
       "<div>\n",
       "<style scoped>\n",
       "    .dataframe tbody tr th:only-of-type {\n",
       "        vertical-align: middle;\n",
       "    }\n",
       "\n",
       "    .dataframe tbody tr th {\n",
       "        vertical-align: top;\n",
       "    }\n",
       "\n",
       "    .dataframe thead th {\n",
       "        text-align: right;\n",
       "    }\n",
       "</style>\n",
       "<table border=\"1\" class=\"dataframe\">\n",
       "  <thead>\n",
       "    <tr style=\"text-align: right;\">\n",
       "      <th></th>\n",
       "      <th>Compound</th>\n",
       "      <th>A</th>\n",
       "      <th>B</th>\n",
       "      <th>In literature</th>\n",
       "      <th>v(A)</th>\n",
       "      <th>v(B)</th>\n",
       "      <th>r(AXII)(Å)</th>\n",
       "      <th>r(AVI)(Å)</th>\n",
       "      <th>r(BVI)(Å)</th>\n",
       "      <th>EN(A)</th>\n",
       "      <th>EN(B)</th>\n",
       "      <th>l(A-O)(Å)</th>\n",
       "      <th>l(B-O)(Å)</th>\n",
       "      <th>ΔENR</th>\n",
       "      <th>tG</th>\n",
       "      <th>τ</th>\n",
       "      <th>μ</th>\n",
       "    </tr>\n",
       "    <tr>\n",
       "      <th>Lowest distortion</th>\n",
       "      <th></th>\n",
       "      <th></th>\n",
       "      <th></th>\n",
       "      <th></th>\n",
       "      <th></th>\n",
       "      <th></th>\n",
       "      <th></th>\n",
       "      <th></th>\n",
       "      <th></th>\n",
       "      <th></th>\n",
       "      <th></th>\n",
       "      <th></th>\n",
       "      <th></th>\n",
       "      <th></th>\n",
       "      <th></th>\n",
       "      <th></th>\n",
       "      <th></th>\n",
       "    </tr>\n",
       "  </thead>\n",
       "  <tbody>\n",
       "    <tr>\n",
       "      <th>-</th>\n",
       "      <td>53</td>\n",
       "      <td>53</td>\n",
       "      <td>53</td>\n",
       "      <td>53</td>\n",
       "      <td>53</td>\n",
       "      <td>53</td>\n",
       "      <td>53</td>\n",
       "      <td>53</td>\n",
       "      <td>53</td>\n",
       "      <td>53</td>\n",
       "      <td>53</td>\n",
       "      <td>53</td>\n",
       "      <td>53</td>\n",
       "      <td>53</td>\n",
       "      <td>53</td>\n",
       "      <td>53</td>\n",
       "      <td>53</td>\n",
       "    </tr>\n",
       "    <tr>\n",
       "      <th>cubic</th>\n",
       "      <td>3253</td>\n",
       "      <td>3253</td>\n",
       "      <td>3253</td>\n",
       "      <td>3253</td>\n",
       "      <td>3253</td>\n",
       "      <td>3253</td>\n",
       "      <td>3253</td>\n",
       "      <td>3253</td>\n",
       "      <td>3253</td>\n",
       "      <td>3253</td>\n",
       "      <td>3253</td>\n",
       "      <td>3253</td>\n",
       "      <td>3253</td>\n",
       "      <td>3253</td>\n",
       "      <td>3253</td>\n",
       "      <td>3253</td>\n",
       "      <td>3253</td>\n",
       "    </tr>\n",
       "    <tr>\n",
       "      <th>orthorhombic</th>\n",
       "      <td>1573</td>\n",
       "      <td>1573</td>\n",
       "      <td>1573</td>\n",
       "      <td>1573</td>\n",
       "      <td>1573</td>\n",
       "      <td>1573</td>\n",
       "      <td>1573</td>\n",
       "      <td>1573</td>\n",
       "      <td>1573</td>\n",
       "      <td>1573</td>\n",
       "      <td>1573</td>\n",
       "      <td>1573</td>\n",
       "      <td>1573</td>\n",
       "      <td>1573</td>\n",
       "      <td>1573</td>\n",
       "      <td>1573</td>\n",
       "      <td>1573</td>\n",
       "    </tr>\n",
       "    <tr>\n",
       "      <th>rhombohedral</th>\n",
       "      <td>323</td>\n",
       "      <td>323</td>\n",
       "      <td>323</td>\n",
       "      <td>323</td>\n",
       "      <td>323</td>\n",
       "      <td>323</td>\n",
       "      <td>323</td>\n",
       "      <td>323</td>\n",
       "      <td>323</td>\n",
       "      <td>323</td>\n",
       "      <td>323</td>\n",
       "      <td>323</td>\n",
       "      <td>323</td>\n",
       "      <td>323</td>\n",
       "      <td>323</td>\n",
       "      <td>323</td>\n",
       "      <td>323</td>\n",
       "    </tr>\n",
       "    <tr>\n",
       "      <th>tetragonal</th>\n",
       "      <td>127</td>\n",
       "      <td>127</td>\n",
       "      <td>127</td>\n",
       "      <td>127</td>\n",
       "      <td>127</td>\n",
       "      <td>127</td>\n",
       "      <td>127</td>\n",
       "      <td>127</td>\n",
       "      <td>127</td>\n",
       "      <td>127</td>\n",
       "      <td>127</td>\n",
       "      <td>127</td>\n",
       "      <td>127</td>\n",
       "      <td>127</td>\n",
       "      <td>127</td>\n",
       "      <td>127</td>\n",
       "      <td>127</td>\n",
       "    </tr>\n",
       "  </tbody>\n",
       "</table>\n",
       "</div>"
      ],
      "text/plain": [
       "                   Compound     A     B  In literature  v(A)  v(B)  \\\n",
       "Lowest distortion                                                    \n",
       "-                        53    53    53             53    53    53   \n",
       "cubic                  3253  3253  3253           3253  3253  3253   \n",
       "orthorhombic           1573  1573  1573           1573  1573  1573   \n",
       "rhombohedral            323   323   323            323   323   323   \n",
       "tetragonal              127   127   127            127   127   127   \n",
       "\n",
       "                   r(AXII)(Å)  r(AVI)(Å)  r(BVI)(Å)  EN(A)  EN(B)  l(A-O)(Å)  \\\n",
       "Lowest distortion                                                              \n",
       "-                          53         53         53     53     53         53   \n",
       "cubic                    3253       3253       3253   3253   3253       3253   \n",
       "orthorhombic             1573       1573       1573   1573   1573       1573   \n",
       "rhombohedral              323        323        323    323    323        323   \n",
       "tetragonal                127        127        127    127    127        127   \n",
       "\n",
       "                   l(B-O)(Å)  ΔENR    tG     τ     μ  \n",
       "Lowest distortion                                     \n",
       "-                         53    53    53    53    53  \n",
       "cubic                   3253  3253  3253  3253  3253  \n",
       "orthorhombic            1573  1573  1573  1573  1573  \n",
       "rhombohedral             323   323   323   323   323  \n",
       "tetragonal               127   127   127   127   127  "
      ]
     },
     "execution_count": 14,
     "metadata": {},
     "output_type": "execute_result"
    }
   ],
   "source": [
    "df.groupby(\"Lowest distortion\").count()"
   ]
  },
  {
   "cell_type": "markdown",
   "id": "3aa2c1d4-0a10-4ac7-81ef-20ddd5aa5758",
   "metadata": {},
   "source": [
    "# Random forest"
   ]
  },
  {
   "cell_type": "code",
   "execution_count": null,
   "id": "4ad4ea05-545d-4fb2-93c8-a543ef46d77b",
   "metadata": {},
   "outputs": [],
   "source": [
    "from sklearn.ensemble import RandomForestClassifier\n",
    "from sklearn.model_selection import GridSearchCV\n",
    "\n",
    "X, y = df_subset[numeric_cols], df_subset[\"Lowest distortion\"]\n",
    "X_train, X_test, y_train, y_test = train_test_split(X, y, test_size=0.5, random_state=0)\n",
    "\n",
    "param_grid = {\n",
    "    \"n_estimators\":[100, 200, 300], \n",
    "    \"max_depth\":[None, 5, 10, 15], \n",
    "    \"min_samples_split\":[2, 5, 10], \n",
    "    \"min_samples_leaf\":[1, 2, 4]\n",
    "}\n",
    "rf = RandomForestClassifier(random_state=42)\n",
    "grid_search = GridSearchCV(rf, param_grid, cv=5, scoring=\"accuracy\")\n",
    "grid_search.fit(X_train, y_train)\n"
   ]
  },
  {
   "cell_type": "code",
   "execution_count": null,
   "id": "0251ff92-374e-45cd-9445-219224515d95",
   "metadata": {},
   "outputs": [],
   "source": [
    "from sklearn.metrics import accuracy_score, classification_report\n",
    "best_params = grid_search.best_params_\n",
    "best_model_all_params = grid_search.best_estimator_\n",
    "y_pred = best_model_all_params.predict(X_test)\n",
    "accuracy = accuracy_score(y_test, y_pred)\n",
    "# generate classification report\n",
    "target_names = sorted(df_subset[\"Lowest distortion\"].unique())\n",
    "report = classification_report(y_test, y_pred, target_names = target_names)\n",
    "print(report)\n",
    "\n",
    "# create confusion report\n",
    "cm = confusion_matrix(y_test, y_pred, labels=target_names, normalize='true')\n",
    "disp = ConfusionMatrixDisplay(confusion_matrix=cm, display_labels=gnb.classes_)\n",
    "disp.plot()"
   ]
  },
  {
   "cell_type": "code",
   "execution_count": null,
   "id": "7c5f449e-b4bd-4576-ae2d-b510c45e0eac",
   "metadata": {},
   "outputs": [],
   "source": [
    "cm = confusion_matrix(y_test, y_pred, labels=target_names)\n",
    "disp = ConfusionMatrixDisplay(confusion_matrix=cm, display_labels=gnb.classes_)\n",
    "disp.plot()"
   ]
  },
  {
   "cell_type": "code",
   "execution_count": null,
   "id": "f98e7047-7c1f-4e24-8499-0a6e33bd0de3",
   "metadata": {},
   "outputs": [],
   "source": [
    "feature_importances = best_model_all_params.feature_importances_\n",
    "feature_importance_df = pd.DataFrame({\n",
    "    \"Feature\":X_train.columns, \n",
    "    \"Importance\":feature_importances\n",
    "})\n",
    "feature_importance_df = feature_importance_df.sort_values(by=\"Importance\", ascending=False)\n",
    "fig, ax = plt.subplots()\n",
    "ax.barh(feature_importance_df.Feature, feature_importance_df.Importance)"
   ]
  },
  {
   "cell_type": "markdown",
   "id": "0df2b18d-cea1-410c-bb20-73bb144eada4",
   "metadata": {},
   "source": [
    "## Running with less parameters\n",
    "From the plot above we can see that the most important parameters in the random forest model seems to be DeltaENR and tG, we are going to do the same approach wiht only these 2 columns."
   ]
  },
  {
   "cell_type": "code",
   "execution_count": null,
   "id": "e74ae788-938a-48b1-9e84-67aee88f0665",
   "metadata": {},
   "outputs": [],
   "source": [
    "df_subset.columns"
   ]
  },
  {
   "cell_type": "code",
   "execution_count": null,
   "id": "552cc442-1828-4253-bba6-30d302d685d2",
   "metadata": {},
   "outputs": [],
   "source": [
    "from sklearn.ensemble import RandomForestClassifier\n",
    "from sklearn.model_selection import GridSearchCV\n",
    "\n",
    "X, y = df_subset[[\"tG\", \"ΔENR\"]], df_subset[\"Lowest distortion\"]\n",
    "X_train, X_test, y_train, y_test = train_test_split(X, y, test_size=0.5, random_state=0)\n",
    "\n",
    "param_grid = {\n",
    "    \"n_estimators\":[100, 200, 300], \n",
    "    \"max_depth\":[None, 5, 10, 15], \n",
    "    \"min_samples_split\":[2, 5, 10], \n",
    "    \"min_samples_leaf\":[1, 2, 4]\n",
    "}\n",
    "rf = RandomForestClassifier(random_state=42)\n",
    "grid_search = GridSearchCV(rf, param_grid, cv=5, scoring=\"accuracy\")\n",
    "grid_search.fit(X_train, y_train)\n",
    "# performance of model\n",
    "best_params = grid_search.best_params_\n",
    "best_model  = grid_search.best_estimator_\n",
    "y_pred = best_model.predict(X_test)\n",
    "accuracy = accuracy_score(y_test, y_pred)\n",
    "\n",
    "# generate classification report\n",
    "target_names = sorted(df_subset[\"Lowest distortion\"].unique())\n",
    "report = classification_report(y_test, y_pred, target_names = target_names)\n",
    "print(report)\n",
    "\n",
    "# create confusion report\n",
    "cm = confusion_matrix(y_test, y_pred, labels=target_names, normalize='true')\n",
    "disp = ConfusionMatrixDisplay(confusion_matrix=cm, display_labels=gnb.classes_)\n",
    "disp.plot()"
   ]
  },
  {
   "cell_type": "markdown",
   "id": "31f3ee70-90f5-4cf5-a751-bb39c4250a22",
   "metadata": {},
   "source": [
    "# Propagating the model to unknown values"
   ]
  },
  {
   "cell_type": "code",
   "execution_count": null,
   "id": "d7615d19-dcde-4fc9-9599-008e7fabc44a",
   "metadata": {},
   "outputs": [],
   "source": [
    "df_unknown = df.loc[df[\"Lowest distortion\"]==\"-\", numeric_cols]\n",
    "\n",
    "df_unknown.columns == df_subset[numeric_cols].columns\n",
    "y_pred = best_model_all_params.predict(df_unknown)\n",
    "df_unknown[\"predicted\"] = y_pred\n",
    "df_unknown"
   ]
  }
 ],
 "metadata": {
  "kernelspec": {
   "display_name": "Python 3 (ipykernel)",
   "language": "python",
   "name": "python3"
  },
  "language_info": {
   "codemirror_mode": {
    "name": "ipython",
    "version": 3
   },
   "file_extension": ".py",
   "mimetype": "text/x-python",
   "name": "python",
   "nbconvert_exporter": "python",
   "pygments_lexer": "ipython3",
   "version": "3.12.9"
  }
 },
 "nbformat": 4,
 "nbformat_minor": 5
}
